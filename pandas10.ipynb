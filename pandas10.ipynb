{
  "nbformat": 4,
  "nbformat_minor": 0,
  "metadata": {
    "colab": {
      "provenance": []
    },
    "kernelspec": {
      "name": "python3",
      "display_name": "Python 3"
    },
    "language_info": {
      "name": "python"
    }
  },
  "cells": [
    {
      "cell_type": "code",
      "source": [
        "import pandas as pd\n",
        "\n",
        "# Load the data\n",
        "df = pd.read_csv('large_dataset.csv')\n",
        "\n",
        "# Convert 'Number of employees' to numeric \n",
        "df['Number of employees'] = pd.to_numeric(df['Number of employees'], errors='coerce')\n",
        "\n",
        "# Calculate the average number of employees per country\n",
        "average_employees = df.groupby('Country')['Number of employees'].mean()\n",
        "\n",
        "print(average_employees)\n"
      ],
      "metadata": {
        "colab": {
          "base_uri": "https://localhost:8080/"
        },
        "id": "6pxpfd9_8ucz",
        "outputId": "42cbd256-f87b-47e4-803e-6f0962e46605"
      },
      "execution_count": 6,
      "outputs": [
        {
          "output_type": "stream",
          "name": "stdout",
          "text": [
            "Country\n",
            "Anguilla          4292.0\n",
            "Australia         4155.0\n",
            "Bahamas           4914.0\n",
            "Belarus           3715.0\n",
            "Belgium           5038.0\n",
            "                   ...  \n",
            "Uruguay           6874.0\n",
            "Uzbekistan        9698.0\n",
            "Vietnam           9097.0\n",
            "Western Sahara    1746.0\n",
            "Zimbabwe          5504.0\n",
            "Name: Number of employees, Length: 84, dtype: float64\n"
          ]
        }
      ]
    }
  ]
}