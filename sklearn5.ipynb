{
  "cells":[
    {
      "cell_type":"code",
      "source":[
        "from sklearn.ensemble import RandomForestClassifier\n",
        "from sklearn.model_selection import GridSearchCV\n",
        "rf = RandomForestClassifier(n_estimators=100, random_state=0)\n",
        "search_space = {\n",
        "    'max_depth' : [4, 8], # keep trees small to avoid overfitting\n",
        "    'min_samples_leaf' : [4, 6]\n",
        "}"
      ],
      "execution_count":4,
      "outputs":[
        
      ],
      "metadata":{
        "jupyter":{
          "source_hidden":false,
          "outputs_hidden":false
        },
        "datalore":{
          "type":"CODE",
          "sheet_delimiter":false
        }
      }
    }
  ],
  "metadata":{
    "datalore":{
      "version":1,
      "computation_mode":"JUPYTER",
      "package_manager":"pip",
      "base_environment":"default",
      "packages":[
        
      ]
    }
  },
  "nbformat":4,
  "nbformat_minor":4
}